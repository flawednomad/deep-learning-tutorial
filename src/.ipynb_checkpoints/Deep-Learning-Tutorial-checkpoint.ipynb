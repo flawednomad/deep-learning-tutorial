{
 "cells": [
  {
   "cell_type": "markdown",
   "metadata": {},
   "source": [
    "# Deep Learning Tutorial\n",
    "\n",
    "This notebook incorporates, analyses, experiments with and comments on the neural network and deep learning tutorial contained in [NeuralNetworksAndDeepLearning.com](http://neuralnetworksanddeeplearning.com/chap1.html#exercises_191892)"
   ]
  },
  {
   "cell_type": "code",
   "execution_count": 1,
   "metadata": {
    "collapsed": false
   },
   "outputs": [],
   "source": [
    "#### Libraries\n",
    "# Standard library\n",
    "import random\n",
    "\n",
    "# Third-party libraries\n",
    "import numpy as np\n",
    "import matplotlib.pyplot as plt\n",
    "\n",
    "%matplotlib inline\n",
    "\n",
    "# Loader\n",
    "import mnist_loader"
   ]
  },
  {
   "cell_type": "markdown",
   "metadata": {},
   "source": [
    "## Perceptron/Sigmoid Neuron\n",
    "\n",
    "We begin with the input layer consisting of a vectorised set of inputs $x_i$. For instance, in the MNIST example, if each image (of a digit character) is described by a grid of 28 X 28 pixels where the intensity at each pixel is a grayscale value from 0.0 to 1.0, the input is then a 28 X 28 = 784 length vector where each component ranges from 0.0 to 1.0\n",
    "\n",
    "A single *perceptron* neuron consists of a linear combination of inputs $\\sum_j w_j x_j$ and a threshold function that outputs a 1 if the linear combination exceeds the threshold $b$. In other words, in vector form:\n",
    "\n",
    "\\begin{align}\n",
    "\\text{output} &= \\left\\{\n",
    "\\begin{array}{ll}\n",
    "0 \\text{  if  } \\sum_j w_j x_j \\leq -b \\\\\n",
    "1 \\text{  if  }  \\sum_j w_j x_j > -b\n",
    "\\end{array}\n",
    "\\right.\n",
    "\\end{align}\n",
    "\n",
    "The sigmoid neuron is an additional nonlinear transformation that is applied to the affine transformations above, where typically it is defined as:\n",
    "\n",
    "\\begin{align}\n",
    "\\sigma(z) & \\equiv \\frac{1}{1 + e\\,^{-z}} \\\\\n",
    "&= \\frac{1}{1 + \\exp\\left(-\\sum_j w_j x_j - b \\right)} \\\\\n",
    "\\end{align}\n",
    "\n",
    "The sigmoid function has the form shown below:"
   ]
  },
  {
   "cell_type": "code",
   "execution_count": 2,
   "metadata": {
    "collapsed": false
   },
   "outputs": [],
   "source": [
    "z = np.arange(-5,5,0.1)\n",
    "sigma = 1 / (1+np.exp(-z))\n"
   ]
  },
  {
   "cell_type": "code",
   "execution_count": 3,
   "metadata": {
    "collapsed": false
   },
   "outputs": [
    {
     "data": {
      "image/png": "[encoded data removed]",
      "text/plain": [
       "<matplotlib.figure.Figure at 0x106db2c18>"
      ]
     },
     "metadata": {},
     "output_type": "display_data"
    }
   ],
   "source": [
    "import matplotlib.pyplot as plt\n",
    "\n",
    "plt.figure(figsize=(7,5))\n",
    "plt.plot(z,sigma)\n",
    "plt.plot([0,0], [0.0, 1.0], color='r', linestyle='-', linewidth=2)\n",
    "plt.plot([-6,0], [0.001, 0.001], color='r', linestyle='-', linewidth=2)\n",
    "plt.plot([0,6], [0.99, 0.99], color='r', linestyle='-', linewidth=2)\n",
    "\n",
    "plt.show(block=False)"
   ]
  },
  {
   "cell_type": "code",
   "execution_count": null,
   "metadata": {
    "collapsed": true
   },
   "outputs": [],
   "source": []
  },
  {
   "cell_type": "markdown",
   "metadata": {},
   "source": [
    "## Hidden Layer Fundamental Equation\n",
    "The fundamental equation that serves as the building block for the whole network is:\n",
    "\n",
    "\\begin{align}\n",
    "z\\,^l_j & = \\sum_k w\\,^l_{jk} a\\,^{l-1}_k + b\\,^l_j \\\\\n",
    "a\\,^l_j  & = \\sigma \\left( z\\,^l_j \\right)\n",
    "\\end{align}\n",
    "\n",
    "where $l$ is the present layer, $l-1$ is the previous layer, $a\\,^l_j$ is the $j$th component of the vector of *activations* $a\\,^l$ of the $l$th layer, ie the activation of the neuron $j$ in layer $l$.\n",
    "\n",
    "Now, for each layer $l$ we have a weight matrix, $w\\,^l$, where each element $w\\,^l_{jk}$ gives the weight from neuron $k$ in layer $l-1$ to neuron $j$ in the present layer $l$. The bias vector is then given by components $b_j$. Note the order of the indices of the weight matrix $w\\,^l$: the rows stand for the present layer, layer $l$, while the coloumns represent the prior layer, $l-1$. Thus, abusing the nomenclature somewhat, arrows in the network go from coloumns to the rows. More precisely, the weight matrix is a linear transformation of the outputs of the previous layer generating the inputs to the next layer. \n",
    "\n",
    "We can then write the above equation in matrix form as:\n",
    "\n",
    "\\begin{align}\n",
    "a\\,^l  & = \\sigma \\left( w\\,^l a\\,^{l-1} + b\\,^l\\right)\n",
    "\\end{align}\n",
    "\n"
   ]
  },
  {
   "cell_type": "markdown",
   "metadata": {},
   "source": [
    "## The idea behind learning\n",
    "\n",
    "We desire a network which learns the optimal weigths and biases so that the correct output is generated for a given input, eg an input of a handwritten image of a digit is correctly classified as the intended digit. \n",
    "\n",
    "The network learns by making small adjustments to the weights thereby causing correspondingly small modifications to the output in such a manner that a defined error is reduced, for instance the classification error. For instance, if the image of a \"9\" is misclassified as an \"8,\" we require the weights and biases to be revised so that a small move is made to the correct output. This is then repeated so as to systematically improve the classification error. \n",
    "\n",
    "The problem with perceptrons is that a small change to the weights can cause a corresponding large change in the output owing to the fact the output of the perceptron, a \"0\" say, is flipped to a \"1\". This flip can in turn result in the behaviour of the rest of the network to alter in unexpected, possibly large, ways. \n",
    "\n",
    "The sigmoid neuron gets around this probem by ensuring that a small change in the output of the neuron results from an alternation of the weights and biases. It is this \"continuity\" of the modification that gives the network sufficient traction so that it can move steadily in the direction of overall improvement or learning. \n",
    "\n",
    "In summary, it is the smoothness of the sigmoidal neuron that is privotal to enabling learning to take place. In other words, small changes $\\Delta w_i$ and $\\Delta b$ in the weights and biases respectively lead to small changes in the output:\n",
    "\n",
    "\\begin{align}\n",
    "\\Delta \\text{output} \\approx \\sum_j \\frac{\\partial \\,output}{\\partial w_j} \\Delta w_j +   \\frac{\\partial \\,output}{\\partial b} \\Delta b\n",
    "\\end{align}\n"
   ]
  },
  {
   "cell_type": "markdown",
   "metadata": {},
   "source": [
    "## Cost Function\n",
    "\n",
    "We start with a simple quadratic cost funtion defined as follows:\n",
    "\n",
    "\\begin{equation}\n",
    "C(w, b) \\equiv \\frac{1}{2n} \\sum_x \\left\\lVert y(x) - a^L(x) \\right\\rVert\n",
    "\\end{equation}\n",
    "\n",
    "where the sum is taken over the $n$ training samples. This will be recognised as bascially the mean square error of the output of the network, $a^L(x)$.  The desired output of the network is $y(x)$, defined so that, for an input digit \"6\" say, $y(x) = (0, 0, 0, 0, 0, 1, 0, 0, 0, 0)^T$. "
   ]
  },
  {
   "cell_type": "markdown",
   "metadata": {},
   "source": [
    "## The stochastic gradient descent algorithm\n",
    "\n",
    "The cost function $C(w,b)$ can be minimised with respect to $w$ and $b$ by the standard gradient descent update rule:\n",
    "\n",
    "\\begin{align}\n",
    "w_k \\leftarrow w'_k &= w_k - \\eta \\frac{\\partial C}{\\partial w_k} \\\\ \\\\\n",
    "b_k \\leftarrow b'_k &= b_k - \\eta \\frac{\\partial C}{\\partial b_k} \\\\ & \n",
    "\\end{align}\n",
    "\n",
    "\n",
    "We repeatedly apply the above update equations until we reach a certain fixed number of iterations expires or some other termination criterion\n",
    "\n"
   ]
  },
  {
   "cell_type": "markdown",
   "metadata": {},
   "source": [
    "## Intuition behind Back Propagation\n",
    "\n",
    "In order to apply the stochatic gradient algorithm to obtain the optimal network parameters, we require the partial derivatives $\\partial C \\,/ \\, \\partial w^l_{jk}$ and  $\\partial C \\,/ \\, \\partial b^l_{j}$. This is perfromed in an efficient manner by computing intermediate quantities and then propagating these values backward through the network. \n",
    "\n",
    "The fundamental intermediate quantity is the error term $\\delta^l_j$ associated with the $l$th layer and the $j$th neuron. Recalling the discussion above about the idea of learning, suppose that a small change $\\Delta z^l_j$ is introduced at neuron $j$ in layer $l$. This means that the output of this neuron is now revised to $\\sigma(z^l_j + \\Delta z^l_j)$. This change is then propoagated through all subsequent layers eventually causing the cost to be adjusted by an amount $\\frac{\\partial C}{\\partial z^l_j} \\Delta z^l_j$.\n",
    "\n",
    "Now, suppose that it is possible to exercise a measure of control over the $\\Delta z^l_j$, how would we want to adjust these? Well, since we ultimately wish to minimise the cost, if it turns out that $\\frac{\\partial C}{\\partial z^l_j}$ is either large and positive or large and negative, we should make $\\Delta z^l_j$ correspondingly large with the opposite sign. If, on the other hand, $\\frac{\\partial C}{\\partial z^l_j}$ is near Zero, the given neuron is near optimal, so we should expect only a small change in $\\Delta z^l_j$.\n",
    "\n",
    "This motivates heuristically designating $\\delta^l_j$ as an error term:\n",
    "\n",
    "\\begin{equation}\n",
    "\\delta^l_j \\equiv \\frac{\\partial C}{\\partial z^l_j}\n",
    "\\end{equation}\n",
    "\n",
    "### Backpropagation Equations\n",
    "\n",
    "\\begin{align}\n",
    "\\text{(BP1}) \\qquad & \\delta^L = \\nabla_a C \\odot \\sigma'(z^L)  \\\\ \\\\\n",
    "\\text{(BP2}) \\qquad & \\delta^l =  ((w^{l+1})^T \\delta^{l+1} ) \\odot \\sigma'(z^l) \\\\  \\\\\n",
    "\\text{(BP3}) \\qquad & \\frac{\\partial C}{\\partial b^l_j}  = \\delta^l_j \\\\ \\\\\n",
    "\\text{(BP4}) \\qquad & \\frac{\\partial C}{\\partial w^l_{jk}}  = a^{l-1}_k\\delta^l_j \\\\ \n",
    "\\end{align}\n",
    "\n"
   ]
  },
  {
   "cell_type": "markdown",
   "metadata": {},
   "source": [
    "### (BP1) Error in the output layer\n",
    "\n",
    "The backpropagation equations exploit the chain rule for derivatives, including this one. So, this equation measures how fast the cost fuction is changing at each of the output activation layers and adjusts this by the rate of change of the activation function with respect to $z^L$, the linear combination of the output activation of the previous layer and bias terms.\n",
    "\n",
    "With a quadratic cost, $\\nabla_a C$ simplifies to $\\nabla_a C = (a^L - y)$. The components of $a^L$ come from the feedforward stage, to be described later. \n",
    "\n",
    "### (BP2) Recursive equation for the error term at any layer\n",
    "\n",
    "This equation gives the error in layer $l$ as a function of layer $l+1$. Since we are back propagating, we suppose the current layer is $l+1$, so what we require is the error in the *next* layer (from the point of view of traversing back along the network). \n",
    "\n",
    "The idea behind this equation is that we are propagating the current error, $\\delta^{l+1}$ back to the next layer $l$. To get a clearer appreciation of what is happening here, we consider the derivation of this term, again an application of the chain rule. \n",
    "\n",
    "\\begin{align}\n",
    "\\delta^l_j & = \\frac{\\partial C}{\\partial z^l_j}\\\\\n",
    "& = \\sum_k \\frac{\\partial C}{\\partial z^{l+1}_k} \\frac{\\partial z^{l+1}_k}{\\partial z^l_j} \n",
    "= \\sum_k \\frac{\\partial z^{l+1}_k}{\\partial z^l_j}  \\delta^{l+1}_k\\\\\n",
    "\\end{align}\n",
    "\n",
    "Now recall, from the definition of the affine transformation of the outputs of the activation layer, we had:\n",
    "\n",
    "\\begin{align}\n",
    "z\\,^l_j & = \\sum_k w\\,^l_{jk} a\\,^{l-1}_k + b\\,^l_j \n",
    "\\end{align}\n",
    "\n",
    "With a suitable substitution of indices we obtain:\n",
    "\n",
    "\\begin{align}\n",
    "z^{l+1}_k = \\sum_j w^{l+1}_{kj} \\sigma(z^l_j) + b^{l+1}_k \\\\\n",
    "\\end{align}\n",
    "\n",
    "What this gives are the contributions to the output of the linear combiner for layer $l+1$ from each of the outputs of layer $l$, namely $a^l_j = \\sigma(z^l_j)$ multiplied by the parameter from the $j$th neuron in layer $l$ to the $k$th neuron in layer $l+1$.\n",
    "\n",
    "Then, performing the differentiation, we have:\n",
    "\n",
    "\\begin{align}\n",
    "\\frac{\\partial z^{l+1}_k}{\\partial z^l_j} = w^{l+1}_{kj} \\sigma'(z^l_j).\\\\\n",
    "\\end{align}\n",
    "\n",
    "And finally, \n",
    "\n",
    "\\begin{align}\n",
    "\\delta^l_j & = \\sum_k w^{l+1}_{kj}  \\delta^{l+1}_k \\sigma'(z^l_j)\\\\\n",
    "\\end{align}\n",
    "\n",
    "Now we can return to the interpretation of equation (BP2). Observing the order of summation, namely that we are summing over the second index -- over the neurons of layer $l+1$ -- we are in effect first propagating the error at each of the (inputs to the) neurons of layer $l+1$ *back* through the linear combiner for layer $l$, and then through the activation function before arriving at the error to the input to the $j$th neuron in layer $l$. \n",
    "\n",
    "### (BP3) Rate of change of cost with respect to biases\n",
    "\n",
    "An application of the chain rule reveals that the rate of change of the cost function with respect to any bias is simply the error $\\delta^l_j$. \n",
    "\n",
    "### (BP4) Rate of change of cost with respect to network weights\n",
    "\n",
    "This equation can be written more heuristically as:\n",
    "\n",
    "\\begin{align}\n",
    "\\frac{\\partial C}{\\partial w} &= a_{in} \\delta_{out}\\\\\n",
    "\\\\\n",
    "\\end{align}\n",
    "\n",
    "We interpret $a_{in}$ as an input activation prior to the application of the weight; and $\\delta_{out}$ as the error that results from applying the weight. \n",
    "\n",
    "Note that if the activation $a_{in}$ is small, then the cost function varies slightly and therefore the network at this weight learns slowly. In other words, weights following low activation neurons learn slowly. \n",
    "\n",
    "### Other observations\n",
    "\n",
    "From (BP1), we observe that if the sigmoid function saturates then $\\sigma'(z^L) \\approx 0$ and the weight in the final layer learns slowly. Similar insights apply to earlier layers.\n"
   ]
  },
  {
   "cell_type": "markdown",
   "metadata": {},
   "source": [
    "## Backpropagation Algorithm\n",
    "\n",
    "Using the backpropagation equations (BP1) - (BP4) and a feedforward step we can formulate the algorithm which estimates the optimal parameters. \n",
    "\n",
    "**1. Given a set of training instances as input to the algorithm**\n",
    "\n",
    "**2. For each training example:** Start by assigning the inputs $x$ to $a^{x,1}$, and then proceed through the following steps:\n",
    "\n",
    "* **Feedforward**: For each of $l = 2, 3, ..., L$ calculate the affine transformation $z^{x,l} = w^l a^{x,l-1} + b^l$, and also $a^{x,l} = \\sigma(z^{x,l})$\n",
    "\n",
    "\n",
    "* **Output Error** $\\delta^{x,L}$  : Compute the error vector $\\delta^{x,L} = \\nabla_a C_x \\odot \\sigma'(z^{x,L})$\n",
    "\n",
    "\n",
    "* **Backpropagate Error**: Work back from $l = L-1, L-2, ...., 2$, computing the errors $\\delta\\,^{x,l} =  ((w^{l+1})^T \\delta\\,^{x,l+1} ) \\odot \\sigma'(z^{x,l})$\n",
    "\n",
    "**3. Perform gradient descent**: For each of $l = L, L-1, L-2, ...., 2$ update the network weights and biases according to the rules:\n",
    "\n",
    "\\begin{align}\n",
    "(SG1) \\qquad w^l \\leftarrow w'^l &= w^l - \\frac{\\eta}{m} \\sum_x \\delta^{x,l} (a^{x,l-1})^T \\\\ \\\\\n",
    "(SG2) \\qquad b^l \\leftarrow b'^l &= b^l - \\frac{\\eta}{m} \\sum_x \\delta^{x,l}  \\\\ & \n",
    "\\end{align}\n",
    "\n",
    "Here we are estimating the gradient of the cost function averaged over *all* the training samples by computing and averaging the gradient over $m$ randomly selected *mini-batch* of samples. "
   ]
  },
  {
   "cell_type": "markdown",
   "metadata": {},
   "source": [
    "## Networks Class"
   ]
  },
  {
   "cell_type": "code",
   "execution_count": 4,
   "metadata": {
    "collapsed": false
   },
   "outputs": [],
   "source": [
    "class Network(object):\n",
    "\n",
    "    def __init__(self, sizes):\n",
    "        \"\"\"The list ``sizes`` contains the number of neurons in the\n",
    "        respective layers of the network.  For example, if the list\n",
    "        was [2, 3, 1] then it would be a three-layer network, with the\n",
    "        first layer containing 2 neurons, the second layer 3 neurons,\n",
    "        and the third layer 1 neuron.  The biases and weights for the\n",
    "        network are initialized randomly, using a Gaussian\n",
    "        distribution with mean 0, and variance 1.  Note that the first\n",
    "        layer is assumed to be an input layer, and by convention we\n",
    "        won't set any biases for those neurons, since biases are only\n",
    "        ever used in computing the outputs from later layers.\"\"\"\n",
    "        \n",
    "        self.num_layers = len(sizes)\n",
    "        self.sizes = sizes\n",
    "        self.biases = [np.random.randn(y, 1) for y in sizes[1:]]\n",
    "        self.weights = [np.random.randn(y, x)\n",
    "                        for x, y in zip(sizes[:-1], sizes[1:])]\n",
    "\n",
    "    def feedforward(self, a):\n",
    "        \"\"\"Return the output of the network if ``a`` is input.\"\"\"\n",
    "        # perform the feedforward in a recursive manner\n",
    "        for b, w in zip(self.biases, self.weights):\n",
    "            a = sigmoid(np.dot(w, a)+b)\n",
    "        return a\n",
    "\n",
    "    def SGD(self, training_data, epochs, mini_batch_size, eta,\n",
    "            test_data=None):\n",
    "        \"\"\"Train the neural network using mini-batch stochastic\n",
    "        gradient descent.  The ``training_data`` is a list of tuples\n",
    "        ``(x, y)`` representing the training inputs and the desired\n",
    "        outputs.  The other non-optional parameters are\n",
    "        self-explanatory.  If ``test_data`` is provided then the\n",
    "        network will be evaluated against the test data after each\n",
    "        epoch, and partial progress printed out.  This is useful for\n",
    "        tracking progress, but slows things down substantially.\"\"\"\n",
    "        \n",
    "        if test_data: n_test = len(test_data)\n",
    "        n = len(training_data)\n",
    "        for j in xrange(epochs):\n",
    "            random.shuffle(training_data)\n",
    "            mini_batches = [\n",
    "                training_data[k:k+mini_batch_size]\n",
    "                for k in xrange(0, n, mini_batch_size)]\n",
    "            \n",
    "            \"\"\"\n",
    "            Each mini batch contains a set of mini_batch_size (randomly selected) training instances.\n",
    "            There will be n / mini_batch_size such batches\n",
    "            \"\"\"\n",
    "            for mini_batch in mini_batches:\n",
    "                self.update_mini_batch(mini_batch, eta)\n",
    "            if test_data:\n",
    "                print (\"Epoch {0}: {1} / {2}\".format(\n",
    "                    j, self.evaluate(test_data), n_test))\n",
    "            else:\n",
    "                print (\"Epoch {0} complete\".format(j))\n",
    "\n",
    "    def update_mini_batch(self, mini_batch, eta):\n",
    "        \"\"\"Update the network's weights and biases by applying\n",
    "        gradient descent using backpropagation to a single mini batch.\n",
    "        The ``mini_batch`` is a list of tuples ``(x, y)``, and ``eta``\n",
    "        is the learning rate.\"\"\"\n",
    "        nabla_b = [np.zeros(b.shape) for b in self.biases]\n",
    "        nabla_w = [np.zeros(w.shape) for w in self.weights]\n",
    "        \"\"\"\n",
    "        The gradient descent equations (SG1) and (SG2) require an estimate of the gradient \n",
    "        averaged over all the training instances. The estimate involves performing a summation\n",
    "        over the mini_batch_size samples in mini_batch.\n",
    "        \"\"\"\n",
    "        for x, y in mini_batch:\n",
    "            # Obtain the gradients with respect to the weights and biases via backpropagation\n",
    "            delta_nabla_b, delta_nabla_w = self.backprop(x, y)\n",
    "            # Perform recursive summation\n",
    "            nabla_b = [nb+dnb for nb, dnb in zip(nabla_b, delta_nabla_b)]\n",
    "            nabla_w = [nw+dnw for nw, dnw in zip(nabla_w, delta_nabla_w)]\n",
    "            \n",
    "        # Obtain weight and bias updates using equations (SG1) and (SG2)\n",
    "        self.weights = [w-(eta/len(mini_batch))*nw\n",
    "                        for w, nw in zip(self.weights, nabla_w)]\n",
    "        self.biases = [b-(eta/len(mini_batch))*nb\n",
    "                       for b, nb in zip(self.biases, nabla_b)]\n",
    "\n",
    "    def backprop(self, x, y):\n",
    "        \"\"\"Return a tuple ``(nabla_b, nabla_w)`` representing the\n",
    "        gradient for the cost function C_x.  ``nabla_b`` and\n",
    "        ``nabla_w`` are layer-by-layer lists of numpy arrays, similar\n",
    "        to ``self.biases`` and ``self.weights``.\"\"\"\n",
    "        nabla_b = [np.zeros(b.shape) for b in self.biases]\n",
    "        nabla_w = [np.zeros(w.shape) for w in self.weights]\n",
    "        # feedforward\n",
    "        activation = x\n",
    "        activations = [x] # list to store all the activations, layer by layer\n",
    "        zs = [] # list to store all the z vectors, layer by layer\n",
    "        for b, w in zip(self.biases, self.weights):\n",
    "            # Construct the z-vectors -- linear combinations of the activations + biases\n",
    "            # defined in the equations above as z = W * a + b\n",
    "            z = np.dot(w, activation)+b\n",
    "            zs.append(z)\n",
    "            activation = sigmoid(z)\n",
    "            activations.append(activation)\n",
    "        # backward pass\n",
    "        # calculate errors for layer L (item -1 in activations, nabla_b and nabla_w)\n",
    "        # This is applying (BP1) from the backpropagation equations, and then (BP3) and (BP4)\n",
    "        delta = self.cost_derivative(activations[-1], y) * \\\n",
    "            sigmoid_prime(zs[-1])\n",
    "        nabla_b[-1] = delta\n",
    "        nabla_w[-1] = np.dot(delta, activations[-2].transpose())\n",
    "        # Note that the variable l in the loop below is used a little\n",
    "        # differently to the notation in Chapter 2 of the book.  Here,\n",
    "        # l = 1 means the last layer of neurons, l = 2 is the\n",
    "        # second-last layer, and so on.  It's a renumbering of the\n",
    "        # scheme in the book, used here to take advantage of the fact\n",
    "        # that Python can use negative indices in lists.\n",
    "        for l in xrange(2, self.num_layers):\n",
    "            z = zs[-l]\n",
    "            sp = sigmoid_prime(z)\n",
    "            delta = np.dot(self.weights[-l+1].transpose(), delta) * sp\n",
    "            nabla_b[-l] = delta\n",
    "            nabla_w[-l] = np.dot(delta, activations[-l-1].transpose())\n",
    "        return (nabla_b, nabla_w)\n",
    "\n",
    "    def evaluate(self, test_data):\n",
    "        \"\"\"Return the number of test inputs for which the neural\n",
    "        network outputs the correct result. Note that the neural\n",
    "        network's output is assumed to be the index of whichever\n",
    "        neuron in the final layer has the highest activation.\"\"\"\n",
    "        test_results = [(np.argmax(self.feedforward(x)), y)\n",
    "                        for (x, y) in test_data]\n",
    "        return sum(int(x == y) for (x, y) in test_results)\n",
    "\n",
    "    def cost_derivative(self, output_activations, y):\n",
    "        \"\"\"Return the vector of partial derivatives \\partial C_x /\n",
    "        \\partial a for the output activations.\"\"\"\n",
    "        return (output_activations-y)\n",
    "\n",
    "#### Miscellaneous functions\n",
    "def sigmoid(z):\n",
    "    \"\"\"The sigmoid function.\"\"\"\n",
    "    return 1.0/(1.0+np.exp(-z))\n",
    "\n",
    "def sigmoid_prime(z):\n",
    "    \"\"\"Derivative of the sigmoid function.\"\"\"\n",
    "    return sigmoid(z)*(1-sigmoid(z))"
   ]
  },
  {
   "cell_type": "markdown",
   "metadata": {},
   "source": [
    "### Set up network \n",
    "\n",
    "Three layers, so only one hidden layer containing 30 neurons. Since each sample consists of 28 X 28 = 784 pixels, the input layer has 784 neurons. There are 10 digits 0--9, so the output layer will have 10 neurons."
   ]
  },
  {
   "cell_type": "code",
   "execution_count": 5,
   "metadata": {
    "collapsed": false
   },
   "outputs": [],
   "source": [
    "net = Network([784, 30, 10])"
   ]
  },
  {
   "cell_type": "markdown",
   "metadata": {},
   "source": [
    "### Examine network properties\n",
    "\n",
    "The number of layers of network:"
   ]
  },
  {
   "cell_type": "code",
   "execution_count": 6,
   "metadata": {
    "collapsed": false
   },
   "outputs": [
    {
     "data": {
      "text/plain": [
       "3"
      ]
     },
     "execution_count": 6,
     "metadata": {},
     "output_type": "execute_result"
    }
   ],
   "source": [
    "net.num_layers"
   ]
  },
  {
   "cell_type": "markdown",
   "metadata": {},
   "source": [
    "The biases of the second and third layers are vectors of length 30 and 10 respectively:"
   ]
  },
  {
   "cell_type": "code",
   "execution_count": 7,
   "metadata": {
    "collapsed": false
   },
   "outputs": [
    {
     "data": {
      "text/plain": [
       "(30, 10)"
      ]
     },
     "execution_count": 7,
     "metadata": {},
     "output_type": "execute_result"
    }
   ],
   "source": [
    "net.biases[0].size, net.biases[1].size"
   ]
  },
  {
   "cell_type": "markdown",
   "metadata": {},
   "source": [
    "The weights for the second and third layers will be matrices of dimension 30 X 784 and 10 X 30 respectively. Note the order of rows and coloumns: because the weight matrix is a linear map from the activations of layer $l$ to layer $l+1$, the number of rows must equal the dimension of the image space, namely the number of neurons of the current layer. "
   ]
  },
  {
   "cell_type": "code",
   "execution_count": 8,
   "metadata": {
    "collapsed": false
   },
   "outputs": [
    {
     "data": {
      "text/plain": [
       "((30, 784), (10, 30))"
      ]
     },
     "execution_count": 8,
     "metadata": {},
     "output_type": "execute_result"
    }
   ],
   "source": [
    "net.weights[0].shape, net.weights[1].shape"
   ]
  },
  {
   "cell_type": "markdown",
   "metadata": {},
   "source": [
    "## Load MNIST dataset"
   ]
  },
  {
   "cell_type": "code",
   "execution_count": 9,
   "metadata": {
    "collapsed": false
   },
   "outputs": [],
   "source": [
    "import gzip, pickle\n",
    "f = gzip.open('/Users/Rhizome73/src/snake-charmer/notebooks/neural-networks-and-deep-learning/data/mnist_py3k.pkl.gz', 'rb')   "
   ]
  },
  {
   "cell_type": "code",
   "execution_count": 10,
   "metadata": {
    "collapsed": true
   },
   "outputs": [],
   "source": [
    "import os\n",
    "data_dir, data_file = os.path.split(\"mnist_py3k.pkl.gz\")"
   ]
  },
  {
   "cell_type": "code",
   "execution_count": 11,
   "metadata": {
    "collapsed": false
   },
   "outputs": [],
   "source": [
    "training_data, validation_data, test_data = pickle.load(f, encoding='latin1')"
   ]
  },
  {
   "cell_type": "code",
   "execution_count": 13,
   "metadata": {
    "collapsed": false
   },
   "outputs": [],
   "source": [
    "def load_data():\n",
    "    \"\"\"Return the MNIST data as a tuple containing the training data,\n",
    "    the validation data, and the test data.\n",
    "\n",
    "    The ``training_data`` is returned as a tuple with two entries.\n",
    "    The first entry contains the actual training images.  This is a\n",
    "    numpy ndarray with 50,000 entries.  Each entry is, in turn, a\n",
    "    numpy ndarray with 784 values, representing the 28 * 28 = 784\n",
    "    pixels in a single MNIST image.\n",
    "\n",
    "    The second entry in the ``training_data`` tuple is a numpy ndarray\n",
    "    containing 50,000 entries.  Those entries are just the digit\n",
    "    values (0...9) for the corresponding images contained in the first\n",
    "    entry of the tuple.\n",
    "\n",
    "    The ``validation_data`` and ``test_data`` are similar, except\n",
    "    each contains only 10,000 images.\n",
    "\n",
    "    This is a nice data format, but for use in neural networks it's\n",
    "    helpful to modify the format of the ``training_data`` a little.\n",
    "    That's done in the wrapper function ``load_data_wrapper()``, see\n",
    "    below.\n",
    "    \"\"\"\n",
    "    f = gzip.open('/Users/Rhizome73/src/snake-charmer/notebooks/neural-networks-and-deep-learning/data/mnist_py3k.pkl.gz', 'rb')\n",
    "    training_data, validation_data, test_data = pickle.load(f, encoding='latin1')\n",
    "    f.close()\n",
    "    return (training_data, validation_data, test_data)\n",
    "\n",
    "def load_data_wrapper():\n",
    "    \"\"\"Return a tuple containing ``(training_data, validation_data,\n",
    "    test_data)``. Based on ``load_data``, but the format is more\n",
    "    convenient for use in our implementation of neural networks.\n",
    "\n",
    "    In particular, ``training_data`` is a list containing 50,000\n",
    "    2-tuples ``(x, y)``.  ``x`` is a 784-dimensional numpy.ndarray\n",
    "    containing the input image.  ``y`` is a 10-dimensional\n",
    "    numpy.ndarray representing the unit vector corresponding to the\n",
    "    correct digit for ``x``.\n",
    "\n",
    "    ``validation_data`` and ``test_data`` are lists containing 10,000\n",
    "    2-tuples ``(x, y)``.  In each case, ``x`` is a 784-dimensional\n",
    "    numpy.ndarry containing the input image, and ``y`` is the\n",
    "    corresponding classification, i.e., the digit values (integers)\n",
    "    corresponding to ``x``.\n",
    "\n",
    "    Obviously, this means we're using slightly different formats for\n",
    "    the training data and the validation / test data.  These formats\n",
    "    turn out to be the most convenient for use in our neural network\n",
    "    code.\"\"\"\n",
    "    tr_d, va_d, te_d = load_data()\n",
    "    training_inputs = [np.reshape(x, (784, 1)) for x in tr_d[0]]\n",
    "    training_results = [vectorized_result(y) for y in tr_d[1]]\n",
    "    training_data = zip(training_inputs, training_results)\n",
    "    validation_inputs = [np.reshape(x, (784, 1)) for x in va_d[0]]\n",
    "    validation_data = zip(validation_inputs, va_d[1])\n",
    "    test_inputs = [np.reshape(x, (784, 1)) for x in te_d[0]]\n",
    "    test_data = zip(test_inputs, te_d[1])\n",
    "    return (training_data, validation_data, test_data)\n",
    "\n",
    "def vectorized_result(j):\n",
    "    \"\"\"Return a 10-dimensional unit vector with a 1.0 in the jth\n",
    "    position and zeroes elsewhere.  This is used to convert a digit\n",
    "    (0...9) into a corresponding desired output from the neural\n",
    "    network.\"\"\"\n",
    "    e = np.zeros((10, 1))\n",
    "    e[j] = 1.0\n",
    "    return e"
   ]
  },
  {
   "cell_type": "code",
   "execution_count": 14,
   "metadata": {
    "collapsed": false
   },
   "outputs": [],
   "source": [
    "tr_d, va_d, te_d = load_data()\n",
    "training_inputs = [np.reshape(x, (784, 1)) for x in tr_d[0]]\n",
    "training_results = [vectorized_result(y) for y in tr_d[1]]"
   ]
  },
  {
   "cell_type": "markdown",
   "metadata": {},
   "source": [
    "### Split datasets"
   ]
  },
  {
   "cell_type": "code",
   "execution_count": 15,
   "metadata": {
    "collapsed": true
   },
   "outputs": [],
   "source": [
    "training_data, validation_data, test_data = mnist_loader.load_data_wrapper()"
   ]
  },
  {
   "cell_type": "code",
   "execution_count": 16,
   "metadata": {
    "collapsed": false
   },
   "outputs": [
    {
     "data": {
      "text/plain": [
       "(50000, 10000, 10000)"
      ]
     },
     "execution_count": 16,
     "metadata": {},
     "output_type": "execute_result"
    }
   ],
   "source": [
    "training_data = list(training_data)\n",
    "validation_data = list(validation_data)\n",
    "test_data = list(test_data)\n",
    "len(training_data), len(validation_data), len(test_data)"
   ]
  },
  {
   "cell_type": "code",
   "execution_count": 17,
   "metadata": {
    "collapsed": false
   },
   "outputs": [
    {
     "data": {
      "text/plain": [
       "10"
      ]
     },
     "execution_count": 17,
     "metadata": {},
     "output_type": "execute_result"
    }
   ],
   "source": [
    "len(training_data[40000][1])"
   ]
  },
  {
   "cell_type": "code",
   "execution_count": 18,
   "metadata": {
    "collapsed": false
   },
   "outputs": [
    {
     "data": {
      "text/plain": [
       "784"
      ]
     },
     "execution_count": 18,
     "metadata": {},
     "output_type": "execute_result"
    }
   ],
   "source": [
    "len(training_data[40000][0])"
   ]
  },
  {
   "cell_type": "markdown",
   "metadata": {},
   "source": [
    "Each of these data sets contains a tuple, where the first element of the tuple is a 784 length vector of the pixel intensities and the second element is the one-hot encoded output vector of length 10"
   ]
  },
  {
   "cell_type": "markdown",
   "metadata": {},
   "source": [
    "## Code deconstruction"
   ]
  },
  {
   "cell_type": "code",
   "execution_count": 19,
   "metadata": {
    "collapsed": false
   },
   "outputs": [],
   "source": [
    "n = len(training_data)\n",
    "random.shuffle(training_data)\n",
    "mini_batch_size = 10\n",
    "mini_batches = [\n",
    "    training_data[k:k+mini_batch_size]\n",
    "    for k in np.arange(0, n, mini_batch_size)]"
   ]
  },
  {
   "cell_type": "code",
   "execution_count": 20,
   "metadata": {
    "collapsed": false
   },
   "outputs": [
    {
     "data": {
      "text/plain": [
       "5000"
      ]
     },
     "execution_count": 20,
     "metadata": {},
     "output_type": "execute_result"
    }
   ],
   "source": [
    "len(mini_batches)"
   ]
  },
  {
   "cell_type": "code",
   "execution_count": 21,
   "metadata": {
    "collapsed": false
   },
   "outputs": [
    {
     "data": {
      "text/plain": [
       "10"
      ]
     },
     "execution_count": 21,
     "metadata": {},
     "output_type": "execute_result"
    }
   ],
   "source": [
    "len(mini_batches[0])"
   ]
  },
  {
   "cell_type": "code",
   "execution_count": 22,
   "metadata": {
    "collapsed": false
   },
   "outputs": [
    {
     "data": {
      "text/plain": [
       "(784, 1)"
      ]
     },
     "execution_count": 22,
     "metadata": {},
     "output_type": "execute_result"
    }
   ],
   "source": [
    "mini_batches[0][1][0].shape"
   ]
  },
  {
   "cell_type": "code",
   "execution_count": 23,
   "metadata": {
    "collapsed": false
   },
   "outputs": [
    {
     "data": {
      "text/plain": [
       "(10, 1)"
      ]
     },
     "execution_count": 23,
     "metadata": {},
     "output_type": "execute_result"
    }
   ],
   "source": [
    "mini_batches[0][0][1].shape"
   ]
  },
  {
   "cell_type": "markdown",
   "metadata": {},
   "source": [
    "From the above we see that each mini-batch contains a set of training instances of length `mini_batch_size` "
   ]
  }
 ],
 "metadata": {
  "kernelspec": {
   "display_name": "Python 3",
   "language": "python",
   "name": "python3"
  },
  "language_info": {
   "codemirror_mode": {
    "name": "ipython",
    "version": 3
   },
   "file_extension": ".py",
   "mimetype": "text/x-python",
   "name": "python",
   "nbconvert_exporter": "python",
   "pygments_lexer": "ipython3",
   "version": "3.5.1"
  }
 },
 "nbformat": 4,
 "nbformat_minor": 0
}
