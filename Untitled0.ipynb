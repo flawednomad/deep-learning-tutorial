{
 "metadata": {
  "name": "",
  "signature": "sha256:b0c1ed1f9919d10a4e53a18a69a0c5d529cc4a1c8fd9199ede2347cf20923829"
 },
 "nbformat": 3,
 "nbformat_minor": 0,
 "worksheets": [
  {
   "cells": [
    {
     "cell_type": "markdown",
     "metadata": {},
     "source": [
      "# Theano Tutorial\n",
      "\n",
      "This is *my* notebook implementation of Colin Raffel's tutorial found [here](http://nbviewer.ipython.org/github/craffel/theano-tutorial/blob/master/Theano%20Tutorial.ipynb)\n",
      "\n",
      "Theano is a software package which allows you to write symbolic code and compile it onto different architectures (in particular, CPU and GPU). It was developed by machine learning researchers at the University of Montreal. Its use is not limited to machine learning applications, but it was designed with machine learning in mind. It's especially good for machine learning techniques which are CPU-intensive and benefit from parallelization (e.g. large neural networks)."
     ]
    },
    {
     "cell_type": "code",
     "collapsed": false,
     "input": [
      "%matplotlib inline\n",
      "import numpy as np\n",
      "import matplotlib.pyplot as plt\n",
      "import theano\n",
      "# By convention, the tensor submodule is loaded as T\n",
      "import theano.tensor as T"
     ],
     "language": "python",
     "metadata": {},
     "outputs": [],
     "prompt_number": 1
    },
    {
     "cell_type": "markdown",
     "metadata": {},
     "source": [
      "## Basics\n",
      "\n",
      "### Symbolic Variables\n",
      "In Theano, all algorithms are defined symbolically. It's more like writing out math than writing code. The following Theano variables are symbolic; they don't have an explicit value."
     ]
    }
   ],
   "metadata": {}
  }
 ]
}